{
 "cells": [
  {
   "cell_type": "markdown",
   "metadata": {},
   "source": [
    "# WeatherPy\n",
    "----\n",
    "\n",
    "#### Note\n",
    "* Instructions have been included for each segment. You do not have to follow them exactly, but they are included to help you think through the steps."
   ]
  },
  {
   "cell_type": "code",
   "execution_count": 13,
   "metadata": {
    "scrolled": true
   },
   "outputs": [],
   "source": [
    "# Dependencies and Setup\n",
    "import matplotlib.pyplot as plt\n",
    "import pandas as pd\n",
    "import numpy as np\n",
    "import requests\n",
    "import time\n",
    "from scipy.stats import linregress\n",
    "import json\n",
    "import datetime\n",
    "# Import API key\n",
    "from api_keys import weather_api_key\n",
    "\n",
    "# Incorporated citipy to determine city based on latitude and longitude\n",
    "from citipy import citipy\n",
    "\n",
    "# Output File (CSV)\n",
    "output_data_file = \"output_data/cities.csv\"\n",
    "\n",
    "# Range of latitudes and longitudes\n",
    "lat_range = (-90, 90)\n",
    "lng_range = (-180, 180)"
   ]
  },
  {
   "cell_type": "markdown",
   "metadata": {},
   "source": [
    "## Generate Cities List"
   ]
  },
  {
   "cell_type": "code",
   "execution_count": 14,
   "metadata": {},
   "outputs": [
    {
     "data": {
      "text/plain": [
       "601"
      ]
     },
     "execution_count": 14,
     "metadata": {},
     "output_type": "execute_result"
    }
   ],
   "source": [
    "# List for holding lat_lngs and cities\n",
    "lat_lngs = []\n",
    "cities = []\n",
    "\n",
    "# Create a set of random lat and lng combinations\n",
    "lats = np.random.uniform(lat_range[0], lat_range[1], size=1500)\n",
    "lngs = np.random.uniform(lng_range[0], lng_range[1], size=1500)\n",
    "lat_lngs = zip(lats, lngs)\n",
    "\n",
    "# Identify nearest city for each lat, lng combination\n",
    "for lat_lng in lat_lngs:\n",
    "    city = citipy.nearest_city(lat_lng[0], lat_lng[1]).city_name\n",
    "    \n",
    "    # If the city is unique, then add it to a our cities list\n",
    "    if city not in cities:\n",
    "        cities.append(city)\n",
    "\n",
    "# Print the city count to confirm sufficient count\n",
    "len(cities)"
   ]
  },
  {
   "cell_type": "markdown",
   "metadata": {},
   "source": [
    "### Perform API Calls\n",
    "* Perform a weather check on each city using a series of successive API calls.\n",
    "* Include a print log of each city as it'sbeing processed (with the city number and city name).\n",
    "\n",
    "> **HINT:** The OpenWeatherMap API only allows 60 calls per minute under their free plan. Try using `time.sleep(60)` after each set of 50 cities to avoid API errors due to large calls."
   ]
  },
  {
   "cell_type": "code",
   "execution_count": 3,
   "metadata": {
    "scrolled": true
   },
   "outputs": [
    {
     "ename": "SyntaxError",
     "evalue": "EOL while scanning string literal (<ipython-input-3-57a3f2546231>, line 2)",
     "output_type": "error",
     "traceback": [
      "\u001b[0;36m  File \u001b[0;32m\"<ipython-input-3-57a3f2546231>\"\u001b[0;36m, line \u001b[0;32m2\u001b[0m\n\u001b[0;31m    query = url + \"appid=\" + weather_api_key + \"&q=\" + \"city + \"&units=imperial\"\u001b[0m\n\u001b[0m                                                                                ^\u001b[0m\n\u001b[0;31mSyntaxError\u001b[0m\u001b[0;31m:\u001b[0m EOL while scanning string literal\n"
     ]
    }
   ],
   "source": [
    "url = \"http://api.openweathermap.org/data/2.5/weather?\"\n",
    "query = url + \"appid=\" + weather_api_key + \"&q=\" + city + \"&units=imperial\"\n",
    "weather = requests.get(url).json()\n",
    "#create lists\n",
    "query"
   ]
  },
  {
   "cell_type": "code",
   "execution_count": 16,
   "metadata": {},
   "outputs": [
    {
     "name": "stdout",
     "output_type": "stream",
     "text": [
      "Beginning Data Retrieval \n",
      " ........................\n",
      "tiksi\n",
      "City not found. Skipping...\n",
      "provideniya\n",
      "City not found. Skipping...\n",
      "padang\n",
      "City not found. Skipping...\n",
      "tual\n",
      "City not found. Skipping...\n",
      "minab\n",
      "City not found. Skipping...\n",
      "dalmatovo\n",
      "City not found. Skipping...\n",
      "cabo san lucas\n",
      "City not found. Skipping...\n",
      "tallahassee\n",
      "City not found. Skipping...\n",
      "puerto ayora\n",
      "City not found. Skipping...\n",
      "jamestown\n",
      "City not found. Skipping...\n",
      "geraldton\n",
      "City not found. Skipping...\n",
      "caravelas\n",
      "City not found. Skipping...\n",
      "hasaki\n",
      "City not found. Skipping...\n",
      "gizo\n",
      "City not found. Skipping...\n",
      "busselton\n",
      "City not found. Skipping...\n",
      "bethel\n",
      "City not found. Skipping...\n",
      "diffa\n",
      "City not found. Skipping...\n",
      "bilibino\n",
      "City not found. Skipping...\n",
      "rossland\n",
      "City not found. Skipping...\n",
      "east london\n",
      "City not found. Skipping...\n",
      "khatanga\n",
      "City not found. Skipping...\n",
      "ulladulla\n",
      "City not found. Skipping...\n",
      "hermanus\n",
      "City not found. Skipping...\n",
      "mar del plata\n",
      "City not found. Skipping...\n",
      "ribeira grande\n",
      "City not found. Skipping...\n",
      "taolanaro\n",
      "City not found. Skipping...\n",
      "hilo\n",
      "City not found. Skipping...\n",
      "kaputa\n",
      "City not found. Skipping...\n",
      "albany\n",
      "City not found. Skipping...\n",
      "port alfred\n",
      "City not found. Skipping...\n",
      "samalaeulu\n",
      "City not found. Skipping...\n",
      "mataura\n",
      "City not found. Skipping...\n",
      "yellowknife\n",
      "City not found. Skipping...\n",
      "zolotinka\n",
      "City not found. Skipping...\n",
      "awbari\n",
      "City not found. Skipping...\n",
      "kapaa\n",
      "City not found. Skipping...\n",
      "ishigaki\n",
      "City not found. Skipping...\n",
      "hithadhoo\n",
      "City not found. Skipping...\n",
      "isangel\n",
      "City not found. Skipping...\n",
      "kazachinskoye\n",
      "City not found. Skipping...\n",
      "kavaratti\n",
      "City not found. Skipping...\n",
      "vila velha\n",
      "City not found. Skipping...\n",
      "sambava\n",
      "City not found. Skipping...\n",
      "touros\n",
      "City not found. Skipping...\n",
      "los llanos de aridane\n",
      "City not found. Skipping...\n",
      "tuktoyaktuk\n",
      "City not found. Skipping...\n",
      "cape town\n",
      "City not found. Skipping...\n",
      "bredasdorp\n",
      "City not found. Skipping...\n",
      "rio gallegos\n",
      "City not found. Skipping...\n",
      "la ronge\n",
      "City not found. Skipping...\n",
      "berlevag\n",
      "City not found. Skipping...\n",
      "norman wells\n",
      "City not found. Skipping...\n",
      "nagato\n",
      "City not found. Skipping...\n",
      "wattegama\n",
      "City not found. Skipping...\n",
      "hervey bay\n",
      "City not found. Skipping...\n",
      "pangnirtung\n",
      "City not found. Skipping...\n",
      "nikolskoye\n",
      "City not found. Skipping...\n",
      "bam\n",
      "City not found. Skipping...\n",
      "panzhihua\n",
      "City not found. Skipping...\n",
      "tarata\n",
      "City not found. Skipping...\n",
      "evensk\n",
      "City not found. Skipping...\n",
      "mbour\n",
      "City not found. Skipping...\n",
      "sao francisco\n",
      "City not found. Skipping...\n",
      "tabuk\n",
      "City not found. Skipping...\n",
      "dikson\n",
      "City not found. Skipping...\n",
      "bandarbeyla\n",
      "City not found. Skipping...\n",
      "belushya guba\n",
      "City not found. Skipping...\n",
      "westport\n",
      "City not found. Skipping...\n",
      "sibenik\n",
      "City not found. Skipping...\n",
      "buenos aires\n",
      "City not found. Skipping...\n",
      "itarema\n",
      "City not found. Skipping...\n",
      "anopino\n",
      "City not found. Skipping...\n",
      "mahebourg\n",
      "City not found. Skipping...\n",
      "hobart\n",
      "City not found. Skipping...\n",
      "attawapiskat\n",
      "City not found. Skipping...\n",
      "morristown\n",
      "City not found. Skipping...\n",
      "bengkulu\n",
      "City not found. Skipping...\n",
      "seymchan\n",
      "City not found. Skipping...\n",
      "vyshkov\n",
      "City not found. Skipping...\n",
      "new norfolk\n",
      "City not found. Skipping...\n",
      "meulaboh\n",
      "City not found. Skipping...\n",
      "nhulunbuy\n",
      "City not found. Skipping...\n",
      "arraial do cabo\n",
      "City not found. Skipping...\n",
      "ponta do sol\n",
      "City not found. Skipping...\n",
      "ushuaia\n",
      "City not found. Skipping...\n",
      "chipinge\n",
      "City not found. Skipping...\n",
      "san clemente\n",
      "City not found. Skipping...\n",
      "saldanha\n",
      "City not found. Skipping...\n",
      "povenets\n",
      "City not found. Skipping...\n",
      "upernavik\n",
      "City not found. Skipping...\n",
      "aklavik\n",
      "City not found. Skipping...\n",
      "amderma\n",
      "City not found. Skipping...\n",
      "vaini\n",
      "City not found. Skipping...\n",
      "fortuna\n",
      "City not found. Skipping...\n",
      "kahului\n",
      "City not found. Skipping...\n",
      "rikitea\n",
      "City not found. Skipping...\n",
      "bluff\n",
      "City not found. Skipping...\n",
      "asau\n",
      "City not found. Skipping...\n",
      "punta arenas\n",
      "City not found. Skipping...\n",
      "thompson\n",
      "City not found. Skipping...\n",
      "barrow\n",
      "City not found. Skipping...\n",
      "komsomolskiy\n",
      "City not found. Skipping...\n",
      "morehead\n",
      "City not found. Skipping...\n",
      "castro\n",
      "City not found. Skipping...\n",
      "ahuimanu\n",
      "City not found. Skipping...\n",
      "pevek\n",
      "City not found. Skipping...\n",
      "huarmey\n",
      "City not found. Skipping...\n",
      "vikhorevka\n",
      "City not found. Skipping...\n",
      "dali\n",
      "City not found. Skipping...\n",
      "kindu\n",
      "City not found. Skipping...\n",
      "grand river south east\n",
      "City not found. Skipping...\n",
      "namibe\n",
      "City not found. Skipping...\n",
      "san jose iturbide\n",
      "City not found. Skipping...\n",
      "bathsheba\n",
      "City not found. Skipping...\n",
      "tsihombe\n",
      "City not found. Skipping...\n",
      "nanortalik\n",
      "City not found. Skipping...\n",
      "lebu\n",
      "City not found. Skipping...\n",
      "suntar\n",
      "City not found. Skipping...\n",
      "moree\n",
      "City not found. Skipping...\n",
      "venice\n",
      "City not found. Skipping...\n",
      "chuy\n",
      "City not found. Skipping...\n",
      "cherskiy\n",
      "City not found. Skipping...\n",
      "barsovo\n",
      "City not found. Skipping...\n",
      "grand-santi\n",
      "City not found. Skipping...\n",
      "pombas\n",
      "City not found. Skipping...\n",
      "vilhena\n",
      "City not found. Skipping...\n",
      "oranjemund\n",
      "City not found. Skipping...\n",
      "homer\n",
      "City not found. Skipping...\n",
      "vostok\n",
      "City not found. Skipping...\n",
      "reinbek\n",
      "City not found. Skipping...\n",
      "beloha\n",
      "City not found. Skipping...\n",
      "butaritari\n",
      "City not found. Skipping...\n",
      "qaanaaq\n",
      "City not found. Skipping...\n",
      "bahia honda\n",
      "City not found. Skipping...\n",
      "palabuhanratu\n",
      "City not found. Skipping...\n",
      "lac du bonnet\n",
      "City not found. Skipping...\n",
      "baruun-urt\n",
      "City not found. Skipping...\n",
      "egvekinot\n",
      "City not found. Skipping...\n",
      "kautokeino\n",
      "City not found. Skipping...\n",
      "le port\n",
      "City not found. Skipping...\n",
      "ayan\n",
      "City not found. Skipping...\n",
      "toliary\n",
      "City not found. Skipping...\n",
      "inirida\n",
      "City not found. Skipping...\n",
      "san ignacio\n",
      "City not found. Skipping...\n",
      "kitgum\n",
      "City not found. Skipping...\n",
      "City not found. Skipping...\n",
      "ritchie\n",
      "City not found. Skipping...\n",
      "ariquemes\n",
      "City not found. Skipping...\n",
      "san juan de arama\n",
      "City not found. Skipping...\n",
      "labuhan\n",
      "City not found. Skipping...\n",
      "saint-philippe\n",
      "City not found. Skipping...\n",
      "buala\n",
      "City not found. Skipping...\n",
      "nola\n",
      "City not found. Skipping...\n",
      "samusu\n",
      "City not found. Skipping...\n",
      "poum\n",
      "City not found. Skipping...\n",
      "umm lajj\n",
      "City not found. Skipping...\n",
      "faanui\n",
      "City not found. Skipping...\n",
      "campos novos\n",
      "City not found. Skipping...\n",
      "marcona\n",
      "City not found. Skipping...\n",
      "vestmannaeyjar\n",
      "City not found. Skipping...\n",
      "mandla\n",
      "City not found. Skipping...\n",
      "coquimbo\n",
      "City not found. Skipping...\n",
      "luganville\n",
      "City not found. Skipping...\n",
      "verkhoyansk\n",
      "City not found. Skipping...\n",
      "sindor\n",
      "City not found. Skipping...\n",
      "salalah\n",
      "City not found. Skipping...\n",
      "nizhneyansk\n",
      "City not found. Skipping...\n",
      "clyde river\n",
      "City not found. Skipping...\n",
      "saleaula\n",
      "City not found. Skipping...\n",
      "arrifes\n",
      "City not found. Skipping...\n",
      "micheweni\n",
      "City not found. Skipping...\n",
      "virginia beach\n",
      "City not found. Skipping...\n",
      "atuona\n",
      "City not found. Skipping...\n",
      "dawlatabad\n",
      "City not found. Skipping...\n",
      "esil\n",
      "City not found. Skipping...\n",
      "jamsa\n",
      "City not found. Skipping...\n",
      "richards bay\n",
      "City not found. Skipping...\n",
      "vao\n",
      "City not found. Skipping...\n",
      "lahaina\n",
      "City not found. Skipping...\n",
      "georgetown\n",
      "City not found. Skipping...\n",
      "illoqqortoormiut\n",
      "City not found. Skipping...\n",
      "kruisfontein\n",
      "City not found. Skipping...\n",
      "hay river\n",
      "City not found. Skipping...\n",
      "tasiilaq\n",
      "City not found. Skipping...\n"
     ]
    }
   ],
   "source": [
    "#add lists\n",
    "city_names = []\n",
    "temp = []\n",
    "humidity = []\n",
    "clouds = []\n",
    "wind = []\n",
    "country = []\n",
    "date = []\n",
    "lat = []\n",
    "long = []\n",
    "count = 1\n",
    "counter = 0\n",
    "\n",
    "print(f'Beginning Data Retrieval \\n ........................')\n",
    "\n",
    "#create loop to sift through list of cities \n",
    "for city in cities:\n",
    "    if counter  > 50:\n",
    "            counter = 1\n",
    "            count += 1\n",
    "            city_names.append(city)\n",
    "    response = requests.get(query + city + '&units=imperial')\n",
    "    #print(f\"Processing Record # : {count} of Set {counter} | {city}\")\n",
    "    count +=1\n",
    "    try:\n",
    "        response = requests.get(query).json()\n",
    "        print(city)\n",
    "        print(response.json)\n",
    "        city_names =(response['name'])\n",
    "        temp.append(response['main']['temp_max'])\n",
    "        humidity.append(response['main']['humidity'])\n",
    "        clouds.append(response['main']['all'])\n",
    "        wind.append(response['wind']['speed'])\n",
    "        country.append(response['sys']['country'])\n",
    "        date.append(response['dt'])\n",
    "        lat.append(response['coord']['lat'])\n",
    "        long.append(response['coord']['lon'])\n",
    "        \n",
    "        \n",
    "        \n",
    "    except:\n",
    "        print(f\"City not found. Skipping...\")\n",
    "    \n",
    "\n",
    "    \n",
    "print(\"-----------------------------\")\n",
    "print(\"Data Retrieval Complete.\")\n",
    "print(\"-----------------------------\")\n",
    "\n",
    "\n"
   ]
  },
  {
   "cell_type": "markdown",
   "metadata": {},
   "source": [
    "### Convert Raw Data to DataFrame\n",
    "* Export the city data into a .csv.\n",
    "* Display the DataFrame"
   ]
  },
  {
   "cell_type": "code",
   "execution_count": 2,
   "metadata": {},
   "outputs": [
    {
     "ename": "NameError",
     "evalue": "name 'city' is not defined",
     "output_type": "error",
     "traceback": [
      "\u001b[0;31m---------------------------------------------------------------------------\u001b[0m",
      "\u001b[0;31mNameError\u001b[0m                                 Traceback (most recent call last)",
      "\u001b[0;32m<ipython-input-2-366d9770cecb>\u001b[0m in \u001b[0;36m<module>\u001b[0;34m\u001b[0m\n\u001b[0;32m----> 1\u001b[0;31m \u001b[0mcity\u001b[0m\u001b[0;34m.\u001b[0m\u001b[0mcount\u001b[0m\u001b[0;34m(\u001b[0m\u001b[0;34m)\u001b[0m\u001b[0;34m\u001b[0m\u001b[0;34m\u001b[0m\u001b[0m\n\u001b[0m",
      "\u001b[0;31mNameError\u001b[0m: name 'city' is not defined"
     ]
    }
   ],
   "source": [
    "city.count()"
   ]
  },
  {
   "cell_type": "code",
   "execution_count": null,
   "metadata": {},
   "outputs": [],
   "source": []
  },
  {
   "cell_type": "markdown",
   "metadata": {},
   "source": [
    "## Inspect the data and remove the cities where the humidity > 100%.\n",
    "----\n",
    "Skip this step if there are no cities that have humidity > 100%. "
   ]
  },
  {
   "cell_type": "code",
   "execution_count": null,
   "metadata": {},
   "outputs": [],
   "source": []
  },
  {
   "cell_type": "code",
   "execution_count": null,
   "metadata": {},
   "outputs": [],
   "source": [
    "#  Get the indices of cities that have humidity over 100%.\n"
   ]
  },
  {
   "cell_type": "code",
   "execution_count": null,
   "metadata": {},
   "outputs": [],
   "source": [
    "# Make a new DataFrame equal to the city data to drop all humidity outliers by index.\n",
    "# Passing \"inplace=False\" will make a copy of the city_data DataFrame, which we call \"clean_city_data\".\n"
   ]
  },
  {
   "cell_type": "code",
   "execution_count": null,
   "metadata": {},
   "outputs": [],
   "source": [
    "\n",
    "\n"
   ]
  },
  {
   "cell_type": "markdown",
   "metadata": {},
   "source": [
    "## Plotting the Data\n",
    "* Use proper labeling of the plots using plot titles (including date of analysis) and axes labels.\n",
    "* Save the plotted figures as .pngs."
   ]
  },
  {
   "cell_type": "markdown",
   "metadata": {},
   "source": [
    "## Latitude vs. Temperature Plot"
   ]
  },
  {
   "cell_type": "code",
   "execution_count": null,
   "metadata": {
    "scrolled": true
   },
   "outputs": [],
   "source": []
  },
  {
   "cell_type": "markdown",
   "metadata": {},
   "source": [
    "## Latitude vs. Humidity Plot"
   ]
  },
  {
   "cell_type": "code",
   "execution_count": null,
   "metadata": {},
   "outputs": [],
   "source": []
  },
  {
   "cell_type": "markdown",
   "metadata": {},
   "source": [
    "## Latitude vs. Cloudiness Plot"
   ]
  },
  {
   "cell_type": "code",
   "execution_count": null,
   "metadata": {},
   "outputs": [],
   "source": []
  },
  {
   "cell_type": "markdown",
   "metadata": {},
   "source": [
    "## Latitude vs. Wind Speed Plot"
   ]
  },
  {
   "cell_type": "code",
   "execution_count": null,
   "metadata": {},
   "outputs": [],
   "source": []
  },
  {
   "cell_type": "markdown",
   "metadata": {},
   "source": [
    "## Linear Regression"
   ]
  },
  {
   "cell_type": "code",
   "execution_count": null,
   "metadata": {},
   "outputs": [],
   "source": []
  },
  {
   "cell_type": "markdown",
   "metadata": {},
   "source": [
    "####  Northern Hemisphere - Max Temp vs. Latitude Linear Regression"
   ]
  },
  {
   "cell_type": "code",
   "execution_count": null,
   "metadata": {},
   "outputs": [],
   "source": []
  },
  {
   "cell_type": "markdown",
   "metadata": {},
   "source": [
    "####  Southern Hemisphere - Max Temp vs. Latitude Linear Regression"
   ]
  },
  {
   "cell_type": "code",
   "execution_count": null,
   "metadata": {},
   "outputs": [],
   "source": []
  },
  {
   "cell_type": "markdown",
   "metadata": {},
   "source": [
    "####  Northern Hemisphere - Humidity (%) vs. Latitude Linear Regression"
   ]
  },
  {
   "cell_type": "code",
   "execution_count": null,
   "metadata": {},
   "outputs": [],
   "source": []
  },
  {
   "cell_type": "markdown",
   "metadata": {},
   "source": [
    "####  Southern Hemisphere - Humidity (%) vs. Latitude Linear Regression"
   ]
  },
  {
   "cell_type": "code",
   "execution_count": null,
   "metadata": {},
   "outputs": [],
   "source": []
  },
  {
   "cell_type": "markdown",
   "metadata": {},
   "source": [
    "####  Northern Hemisphere - Cloudiness (%) vs. Latitude Linear Regression"
   ]
  },
  {
   "cell_type": "code",
   "execution_count": null,
   "metadata": {},
   "outputs": [],
   "source": []
  },
  {
   "cell_type": "markdown",
   "metadata": {},
   "source": [
    "####  Southern Hemisphere - Cloudiness (%) vs. Latitude Linear Regression"
   ]
  },
  {
   "cell_type": "code",
   "execution_count": null,
   "metadata": {},
   "outputs": [],
   "source": []
  },
  {
   "cell_type": "markdown",
   "metadata": {},
   "source": [
    "####  Northern Hemisphere - Wind Speed (mph) vs. Latitude Linear Regression"
   ]
  },
  {
   "cell_type": "code",
   "execution_count": null,
   "metadata": {},
   "outputs": [],
   "source": []
  },
  {
   "cell_type": "markdown",
   "metadata": {},
   "source": [
    "####  Southern Hemisphere - Wind Speed (mph) vs. Latitude Linear Regression"
   ]
  },
  {
   "cell_type": "code",
   "execution_count": null,
   "metadata": {},
   "outputs": [],
   "source": []
  },
  {
   "cell_type": "code",
   "execution_count": null,
   "metadata": {},
   "outputs": [],
   "source": []
  }
 ],
 "metadata": {
  "anaconda-cloud": {},
  "interpreter": {
   "hash": "48b8287f69fd3488ce7ae437ba6cb47dfd4896655c7d535660681508fd1adcdf"
  },
  "kernel_info": {
   "name": "python3"
  },
  "kernelspec": {
   "display_name": "Python 3",
   "language": "python",
   "name": "python3"
  },
  "language_info": {
   "codemirror_mode": {
    "name": "ipython",
    "version": 3
   },
   "file_extension": ".py",
   "mimetype": "text/x-python",
   "name": "python",
   "nbconvert_exporter": "python",
   "pygments_lexer": "ipython3",
   "version": "3.6.10"
  },
  "latex_envs": {
   "LaTeX_envs_menu_present": true,
   "autoclose": false,
   "autocomplete": true,
   "bibliofile": "biblio.bib",
   "cite_by": "apalike",
   "current_citInitial": 1,
   "eqLabelWithNumbers": true,
   "eqNumInitial": 1,
   "hotkeys": {
    "equation": "Ctrl-E",
    "itemize": "Ctrl-I"
   },
   "labels_anchors": false,
   "latex_user_defs": false,
   "report_style_numbering": false,
   "user_envs_cfg": false
  },
  "nteract": {
   "version": "0.12.3"
  }
 },
 "nbformat": 4,
 "nbformat_minor": 2
}
